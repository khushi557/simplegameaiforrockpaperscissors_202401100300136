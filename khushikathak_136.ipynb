{
  "nbformat": 4,
  "nbformat_minor": 0,
  "metadata": {
    "colab": {
      "provenance": []
    },
    "kernelspec": {
      "name": "python3",
      "display_name": "Python 3"
    },
    "language_info": {
      "name": "python"
    }
  },
  "cells": [
    {
      "cell_type": "code",
      "source": [
        "import random\n",
        "import matplotlib.pyplot as plt\n",
        "#creating a function for players choice\n",
        "def get_player_choice():\n",
        "  \"\"\"Gets the player's choice.\"\"\"\n",
        "  while True:\n",
        "    choice = input(\"Enter your choice (rock, paper, or scissors): \").lower()\n",
        "    if choice in [\"rock\", \"paper\", \"scissors\"]:\n",
        "      return choice\n",
        "    else:\n",
        "      print(\"Invalid choice. Please try again.\")\n",
        "#creating a function for computers choice\n",
        "def get_computer_choice():\n",
        "  \"\"\"Gets the computer's choice.\"\"\"\n",
        "  return random.choice([\"rock\", \"paper\", \"scissors\"])\n",
        "#creating a function for determining the winner\n",
        "def determine_winner(player_choice, computer_choice):\n",
        "  \"\"\"Determines the winner of the game.\"\"\"\n",
        "  if player_choice == computer_choice:\n",
        "    return \"It's a tie!\"\n",
        "  elif (player_choice == \"rock\" and computer_choice == \"scissors\") or \\\n",
        "       (player_choice == \"paper\" and computer_choice == \"rock\") or \\\n",
        "       (player_choice == \"scissors\" and computer_choice == \"paper\"):\n",
        "    return \"You win!\"\n",
        "  else:\n",
        "    return \"Computer wins!\"\n",
        "#creating a function for plotting the results\n",
        "def plot_results(results):\n",
        "  \"\"\"Plots the results of the game.\"\"\"\n",
        "  labels = [\"Wins\", \"Losses\", \"Ties\"]\n",
        "  sizes = [results[\"wins\"], results[\"losses\"], results[\"ties\"]]\n",
        "  plt.pie(sizes, labels=labels, autopct=\"%1.1f%%\", startangle=90)\n",
        "  plt.axis(\"equal\")\n",
        "  plt.title(\"Game Results\")\n",
        "  plt.show()\n",
        "\n",
        "# Initialize results\n",
        "results = {\"wins\": 0, \"losses\": 0, \"ties\": 0}\n",
        "\n",
        "# Play the game for a certain number of rounds\n",
        "num_rounds = 5\n",
        "for _ in range(num_rounds):\n",
        "  player_choice = get_player_choice()\n",
        "  computer_choice = get_computer_choice()\n",
        "  result = determine_winner(player_choice, computer_choice)\n",
        "  print(result)\n",
        "\n",
        "  if result == \"You win!\":\n",
        "    results[\"wins\"] += 1\n",
        "  elif result == \"Computer wins!\":\n",
        "    results[\"losses\"] += 1\n",
        "  else:\n",
        "    results[\"ties\"] += 1\n",
        "\n",
        "# Plot the results\n",
        "plot_results(results)"
      ],
      "metadata": {
        "id": "gGzLb9LInzdF"
      },
      "execution_count": null,
      "outputs": []
    }
  ]
}